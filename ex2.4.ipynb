{
 "cells": [
  {
   "cell_type": "markdown",
   "metadata": {},
   "source": [
    "# 第4题 思考题。字数不限(10分)\n",
    "基于NLP的发展和技术革新，就某一具体案例提出自己的思考，案例可以体现国家情怀、社会责任、人文精神、诚信品质、创新能力的等积极品质的内容。"
   ]
  },
  {
   "cell_type": "markdown",
   "metadata": {},
   "source": [
    "## Modeling Dual Read/Write Paths for Simultaneous Machine Translation\n",
    "\n",
    "#### 探讨机器同声传译中自然语言处理问题和解决方法，以及其中带来的新的启发\n"
   ]
  },
  {
   "cell_type": "markdown",
   "metadata": {},
   "source": [
    "##### 论文试图解决什么问题？\n",
    "\n",
    "同声传译需要在接受源句子的同时输出翻译，因此模型需要指定一个同传策略来决定是读入下一个源词还是输出目标词。然而，两种语言之间的同传策略复杂且难以学习。本文试图让模型从自身内部挖掘同传策略的监督信号，学习到更好的同传策略。"
   ]
  },
  {
   "cell_type": "markdown",
   "metadata": {},
   "source": [
    "#####  这篇文章要验证一个什么科学假设？\n",
    "\n",
    "本文希望能够验证：同声传译模型可以从自身内部挖掘同传策略的监督信号，以自学习的方式学习到更准确的同传策略。\n",
    "\n"
   ]
  },
  {
   "cell_type": "markdown",
   "metadata": {},
   "source": [
    "##### 论文中提到的解决方案之关键是什么？\n",
    "\n",
    "学习更好的同声传译策略的关键是挖掘模型内部的约束来为同传策略提供明确的监督信号。具体地，本文首先指出两个翻译方向的源端读操作应满足充分必要性，即连续读入的源端片段和随后生成的目标片段应该互为翻译，此为两个翻译方向的对偶特性，然后，本文提出Dual-Path SiMT来联合训练两个翻译方向上的同声传译模型，同时约束两个方向的同传策略之间的对偶约束。"
   ]
  },
  {
   "cell_type": "markdown",
   "metadata": {},
   "source": [
    "##### 这篇论文到底有什么贡献？\n",
    "\n",
    "本文提出了一种同传策略的自监督学习方法，借助于双向翻译的对偶特性，第一次实现了无需外部信息即可从模型自身挖掘明确的读/写监督信号。\n",
    "\n"
   ]
  },
  {
   "cell_type": "markdown",
   "metadata": {},
   "source": [
    "##### 下一步呢？有什么工作可以继续深入？\n",
    "\n",
    "下一步，同声传译的研究可以继续深入探索如何开发更精确的同传策略，从而获得更好的同声传译性能。另外，未来工作还可以着手于增强同声传译模型在源信息受限的情况下的翻译能力。"
   ]
  }
 ],
 "metadata": {
  "kernelspec": {
   "display_name": "Python 3 (ipykernel)",
   "language": "python",
   "name": "python3"
  },
  "language_info": {
   "codemirror_mode": {
    "name": "ipython",
    "version": 3
   },
   "file_extension": ".py",
   "mimetype": "text/x-python",
   "name": "python",
   "nbconvert_exporter": "python",
   "pygments_lexer": "ipython3",
   "version": "3.9.5"
  },
  "vscode": {
   "interpreter": {
    "hash": "52634da84371cba311ea128a5ea7cdc41ff074b781779e754b270ff9f8153cee"
   }
  }
 },
 "nbformat": 4,
 "nbformat_minor": 2
}
