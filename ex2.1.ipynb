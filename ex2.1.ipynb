{
 "cells": [
  {
   "cell_type": "markdown",
   "id": "e191acf7",
   "metadata": {},
   "source": [
    "### 第1题 tf-idf向量表示和文本分类（30分）"
   ]
  },
  {
   "cell_type": "code",
   "execution_count": 2,
   "id": "00259b64",
   "metadata": {},
   "outputs": [],
   "source": [
    "from sklearn.model_selection import train_test_split\n",
    "import numpy as np\n",
    "from sklearn.feature_extraction.text import TfidfTransformer  #权重计算\n",
    "from sklearn.feature_extraction.text import CountVectorizer,TfidfVectorizer  #词频统计\n",
    "from sklearn.feature_extraction.text import TfidfVectorizer"
   ]
  },
  {
   "cell_type": "code",
   "execution_count": 2,
   "id": "52a9b557",
   "metadata": {},
   "outputs": [],
   "source": [
    "#review corpus: [reveiws,y]\n",
    "y=[]\n",
    "reviews=[]\n",
    "with open('train.txt','r',encoding='utf-8') as infile: # train.txt=>sentence list\n",
    "    for line in infile:\n",
    "        label, sentence = line.strip().split(\"\\t\")\n",
    "        y.append(int(label))\n",
    "        reviews.append(sentence)\n",
    "        \n",
    "\n",
    "x_train,x_test,y_train,y_test=train_test_split(reviews, y,test_size=0.2)"
   ]
  },
  {
   "cell_type": "code",
   "execution_count": 3,
   "id": "e9cc547e",
   "metadata": {},
   "outputs": [
    {
     "name": "stdout",
     "output_type": "stream",
     "text": [
      "[[0. 0. 0. ... 0. 0. 0.]\n",
      " [0. 0. 0. ... 0. 0. 0.]\n",
      " [0. 0. 0. ... 0. 0. 0.]\n",
      " ...\n",
      " [0. 0. 0. ... 0. 0. 0.]\n",
      " [0. 0. 0. ... 0. 0. 0.]\n",
      " [0. 0. 0. ... 0. 0. 0.]] [[0. 0. 0. ... 0. 0. 0.]\n",
      " [0. 0. 0. ... 0. 0. 0.]\n",
      " [0. 0. 0. ... 0. 0. 0.]\n",
      " ...\n",
      " [0. 0. 0. ... 0. 0. 0.]\n",
      " [0. 0. 0. ... 0. 0. 0.]\n",
      " [0. 0. 0. ... 0. 0. 0.]]\n"
     ]
    }
   ],
   "source": [
    "\n",
    "###编写代码，实现用tf-idf对语料x_train,x_test进行向量表示,输出向量矩阵train_vecs,test_vecs\n",
    "\n",
    "\n",
    "#该类会将文本中的词语转换为词频矩阵，矩阵元素a[i][j] 表示j词在i类文本下的词频\n",
    "from cgi import test\n",
    "\n",
    "\n",
    "vectorizer = CountVectorizer()\n",
    "#该类会统计每个词语的tf-idf权值\n",
    "tf_idf_transformer = TfidfTransformer()\n",
    "#将文本转为词频矩阵并计算tf-idf\n",
    "train_vecs = tf_idf_transformer.fit_transform(vectorizer.fit_transform(x_train)).toarray()\n",
    "\n",
    "\n",
    "#对测试集进行tf-idf权重计算\n",
    "test_vecs = tf_idf_transformer.transform(vectorizer.transform(x_test)).toarray()\n",
    "\n",
    "\n",
    "print(train_vecs,test_vecs)"
   ]
  },
  {
   "cell_type": "code",
   "execution_count": 4,
   "id": "9b97799c",
   "metadata": {},
   "outputs": [
    {
     "name": "stdout",
     "output_type": "stream",
     "text": [
      "              precision    recall  f1-score   support\n",
      "\n",
      "           0       0.99      0.98      0.99       610\n",
      "           1       0.99      1.00      0.99       808\n",
      "\n",
      "    accuracy                           0.99      1418\n",
      "   macro avg       0.99      0.99      0.99      1418\n",
      "weighted avg       0.99      0.99      0.99      1418\n",
      "\n",
      "Acc: 0.99\n"
     ]
    }
   ],
   "source": [
    "from sklearn.preprocessing import scale\n",
    "train_vecs=scale(train_vecs)\n",
    "test_vecs=scale(test_vecs)\n",
    "\n",
    "#from sklearn.metrics import roc_curve, auc\n",
    "from sklearn.metrics import classification_report\n",
    "from sklearn import  svm\n",
    "\n",
    "clf = svm.SVC(kernel='linear', gamma=10)\n",
    "clf.fit(train_vecs,y_train)\n",
    "y_pred=clf.predict(test_vecs)\n",
    "print(classification_report(y_test,y_pred))\n",
    "print('Acc: %.2f' % clf.score(test_vecs, y_test))\n"
   ]
  },
  {
   "cell_type": "code",
   "execution_count": 5,
   "id": "90f8ba0b",
   "metadata": {},
   "outputs": [
    {
     "name": "stderr",
     "output_type": "stream",
     "text": [
      "c:\\Python\\lib\\site-packages\\sklearn\\linear_model\\_stochastic_gradient.py:173: FutureWarning: The loss 'log' was deprecated in v1.1 and will be removed in version 1.3. Use `loss='log_loss'` which is equivalent.\n",
      "  warnings.warn(\n"
     ]
    },
    {
     "name": "stdout",
     "output_type": "stream",
     "text": [
      "              precision    recall  f1-score   support\n",
      "\n",
      "           0       0.93      0.97      0.95       610\n",
      "           1       0.97      0.95      0.96       808\n",
      "\n",
      "    accuracy                           0.95      1418\n",
      "   macro avg       0.95      0.96      0.95      1418\n",
      "weighted avg       0.95      0.95      0.95      1418\n",
      "\n",
      "Acc: 0.95\n"
     ]
    }
   ],
   "source": [
    "\n",
    "#using SLG to train classifier model, and assess\n",
    "from sklearn.linear_model import SGDClassifier\n",
    "from sklearn.metrics import classification_report\n",
    "lr=SGDClassifier(loss='log',penalty='l1')\n",
    "lr.fit(train_vecs,y_train)\n",
    "y_pred = lr.predict(test_vecs)\n",
    "print(classification_report(y_test,y_pred))\n",
    "\n",
    "print('Acc: %.2f' % lr.score(test_vecs, y_test))"
   ]
  }
 ],
 "metadata": {
  "kernelspec": {
   "display_name": "Python 3 (ipykernel)",
   "language": "python",
   "name": "python3"
  },
  "language_info": {
   "codemirror_mode": {
    "name": "ipython",
    "version": 3
   },
   "file_extension": ".py",
   "mimetype": "text/x-python",
   "name": "python",
   "nbconvert_exporter": "python",
   "pygments_lexer": "ipython3",
   "version": "3.9.5"
  },
  "vscode": {
   "interpreter": {
    "hash": "52634da84371cba311ea128a5ea7cdc41ff074b781779e754b270ff9f8153cee"
   }
  }
 },
 "nbformat": 4,
 "nbformat_minor": 5
}
