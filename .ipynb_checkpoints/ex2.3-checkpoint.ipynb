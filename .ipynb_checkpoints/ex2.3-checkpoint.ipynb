{
 "cells": [
  {
   "cell_type": "markdown",
   "metadata": {},
   "source": [
    "### 第3题 Naive bayes分类和模型评估（30分）\n",
    "\n",
    "如下垃圾邮件识别代码采用Naive bayes算法实现，请用该模型对data/ SMSSpamCollection.test测试数据进行评测。计算TP,FP, TN, FN的值，以及判断为垃圾邮件的precision, recall, f1的值。"
   ]
  },
  {
   "cell_type": "code",
   "execution_count": 1,
   "metadata": {},
   "outputs": [],
   "source": [
    "# import numpy as np\n",
    "from collections import Counter"
   ]
  },
  {
   "cell_type": "code",
   "execution_count": 2,
   "metadata": {},
   "outputs": [],
   "source": [
    "# 统计训练语料:spam和ham各自邮件总数，单词频率\n",
    "def seperate(filename):\n",
    "    hamcnt = Counter()     #ham邮件统计字典\n",
    "    spamcnt = Counter()    #spam邮件统计字典\n",
    "    totalNum = 0     # 邮件的总数\n",
    "    hamNum = 0       # ham邮件数\n",
    "    spamNum = 0      # spam垃圾邮件数\n",
    "    i = 0\n",
    "    file = open(filename, encoding='gb18030', errors='ignore') \n",
    "    for line in file:  #逐行处理\n",
    "        i = i + 1\n",
    "        new = line.split(' ')  # 一行邮件，以ham/spam标记分开\n",
    "        totalNum = totalNum + 1\n",
    "        if 'ham' in new[0]:  # ham邮件数\n",
    "            hamNum = hamNum + 1\n",
    "            for word in new[1:]:\n",
    "                hamcnt[word] += 1  #ham中词频计数\n",
    "        if 'spam' in new[0]:  # spam邮件数\n",
    "            spamNum = spamNum + 1\n",
    "            for word in new[1:]:\n",
    "                spamcnt[word] += 1   #spam词频计数\n",
    "    print('训练样本的总行数：%s' % i)\n",
    "    print('ham样本：%s' % hamNum)\n",
    "    print('spam样本：%s' % spamNum)\n",
    "    return hamcnt, spamcnt, totalNum, hamNum, spamNum"
   ]
  },
  {
   "cell_type": "code",
   "execution_count": 3,
   "metadata": {},
   "outputs": [
    {
     "name": "stdout",
     "output_type": "stream",
     "text": [
      "训练样本的总行数：3345\n",
      "ham样本：2899\n",
      "spam样本：446\n"
     ]
    }
   ],
   "source": [
    "\n",
    "train_filename = 'SMSSpamCollection.train'\n",
    "test_filename = 'SMSSpamCollection.test'\n",
    "\n",
    "#\n",
    "hamcnt, spamcnt, totalNum, hamNum, spamNum = seperate(train_filename) #统计spam/ham词典\n",
    "# 计算spam/ham各自总词数\n",
    "wordNumerOfham = 0\n",
    "for key in hamcnt:\n",
    "    wordNumerOfham += hamcnt[key] \n",
    "wordNumerOfspam = 0\n",
    "for key in spamcnt:\n",
    "    wordNumerOfspam += spamcnt[key]\n",
    "\n",
    "\n",
    "\n",
    "def predict(test_filename):\n",
    "    y_test = []\n",
    "    y_pre = []\n",
    "    pham,pspam = [],[]\n",
    "    lines = []\n",
    "    file = open(test_filename, encoding='gb18030', errors='ignore') \n",
    "    for line in file:\n",
    "        # 计算概率p(spam|total),p(ham|total)\n",
    "        p1_spam = spamNum / totalNum    #ham先验概率\n",
    "        p1_ham = hamNum / totalNum   #spam先验概率\n",
    "        hamProbablity = 1\n",
    "        spamProbability = 1\n",
    "\n",
    "        newPreData = line.split(' ')\n",
    "        lines.append(newPreData)\n",
    "\n",
    "        if 'ham' in newPreData[0]:  \n",
    "            y_test.append('ham')\n",
    "        \n",
    "        if 'spam' in newPreData[0]: \n",
    "           y_test.append('spam')\n",
    "\n",
    "        for word in newPreData:   #计算测试语料中每个词的条件概率\n",
    "            try:  #加1平滑\n",
    "                hamProbablity = hamProbablity *  (hamcnt[word] + 1) / (wordNumerOfham + len(hamcnt)) \n",
    "            except:  # 文本中没有该单词\n",
    "                hamProbablity = hamProbablity *  1 / (wordNumerOfham + len(hamcnt)) \n",
    "        res1 = hamProbablity * p1_ham   #为ham类的概率：先验*条件\n",
    "        pham.append(res1)\n",
    "\n",
    "        for word in newPreData:\n",
    "            try:\n",
    "                spamProbability = spamProbability * (spamcnt[word] + 1) / (wordNumerOfspam + len(spamcnt))\n",
    "            except:\n",
    "                spamProbability = spamProbability * (1) / (wordNumerOfspam + len(spamcnt))\n",
    "        res2 = spamProbability * p1_spam  #为spam类的概率：先验*条件\n",
    "        pspam.append(res2)\n",
    "\n",
    "\n",
    "        if res1 >= res2:\n",
    "            y_pre.append('ham')\n",
    "        else:\n",
    "            y_pre.append('spam')\n",
    "\n",
    "    return y_test,y_pre,pham,pspam,lines\n",
    "\n",
    "\n",
    "y_test, y_pre,pham,pspam,lines = predict(test_filename)\n"
   ]
  },
  {
   "cell_type": "code",
   "execution_count": 4,
   "metadata": {},
   "outputs": [
    {
     "name": "stdout",
     "output_type": "stream",
     "text": [
      "tp,fp,tn,fn: 141 193 776 4\n",
      "precision: 0.4221556886227545\n",
      "recall: 0.9724137931034482\n",
      "f1: 0.5887265135699373\n",
      "acc: 0.8231597845601436\n"
     ]
    }
   ],
   "source": [
    "\n",
    "def statistics(y_test, y_pre):\n",
    "    tp,fp,tn,fn = 0,0,0,0\n",
    "\n",
    "    if len(y_test) == len(y_pre):\n",
    "        # print('In')\n",
    "        for i in range(len(y_pre)):\n",
    "            # tp\n",
    "            if y_pre[i] == 'spam' and y_test[i] == 'spam':\n",
    "                tp += 1\n",
    "            # fp\n",
    "            elif y_pre[i] == 'spam' and y_test[i] == 'ham':\n",
    "                fp += 1\n",
    "            # tn\n",
    "            elif y_pre[i] == 'ham' and y_test[i] == 'ham':\n",
    "                tn += 1\n",
    "            # fn\n",
    "            elif y_pre[i] == 'ham' and y_test[i] == 'spam':\n",
    "                fn += 1\n",
    "            else:\n",
    "                print(\"error\")\n",
    "\n",
    "            \n",
    "    else:\n",
    "        raise ValueError(\"two lists have different lengths!\")\n",
    "\n",
    "    return tp,fp,tn,fn\n",
    "\n",
    "\n",
    "tp,fp,tn,fn = statistics(y_test, y_pre)\n",
    "precision = tp/(tp+fp)\n",
    "recall = tp/(tp+fn)\n",
    "f1 = (2*precision*recall) / (precision + recall)\n",
    "acc = (tp + tn) / (tp+tn+fp+fn)\n",
    "\n",
    "print('tp,fp,tn,fn:',tp,fp,tn,fn)\n",
    "print('precision:',precision)\n",
    "print('recall:',recall)\n",
    "print('f1:',f1)\n",
    "print('acc:',acc)"
   ]
  }
 ],
 "metadata": {
  "kernelspec": {
   "display_name": "Python 3 (ipykernel)",
   "language": "python",
   "name": "python3"
  },
  "language_info": {
   "codemirror_mode": {
    "name": "ipython",
    "version": 3
   },
   "file_extension": ".py",
   "mimetype": "text/x-python",
   "name": "python",
   "nbconvert_exporter": "python",
   "pygments_lexer": "ipython3",
   "version": "3.9.5"
  },
  "vscode": {
   "interpreter": {
    "hash": "52634da84371cba311ea128a5ea7cdc41ff074b781779e754b270ff9f8153cee"
   }
  }
 },
 "nbformat": 4,
 "nbformat_minor": 2
}
